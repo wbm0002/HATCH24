{
  "cells": [
    {
      "cell_type": "code",
      "execution_count": null,
      "id": "3c12856c",
      "metadata": {
        "id": "3c12856c"
      },
      "outputs": [],
      "source": [
        "import tensorflow as tf\n",
        "from tensorflow.keras import layers\n",
        "import numpy as np\n",
        "import matplotlib.pyplot as plt\n",
        "import pandas as pd"
      ]
    },
    {
      "cell_type": "code",
      "execution_count": null,
      "id": "f839037a",
      "metadata": {
        "id": "f839037a"
      },
      "outputs": [],
      "source": [
        "# Define the generator model\n",
        "def build_generator(latent_dim, output_shape):\n",
        "    model = tf.keras.Sequential()\n",
        "    model.add(layers.Dense(256, input_dim=latent_dim, activation='relu'))\n",
        "    model.add(layers.Dense(512, activation='relu'))\n",
        "    model.add(layers.Dense(output_shape, activation='sigmoid'))\n",
        "    return model"
      ]
    },
    {
      "cell_type": "code",
      "execution_count": null,
      "id": "60e2ef0c",
      "metadata": {
        "id": "60e2ef0c"
      },
      "outputs": [],
      "source": [
        "# Define the discriminator model\n",
        "def build_discriminator(input_shape):\n",
        "    model = tf.keras.Sequential()\n",
        "    model.add(layers.Dense(512, input_shape=(input_shape,), activation='relu'))\n",
        "    model.add(layers.Dense(256, activation='relu'))\n",
        "    model.add(layers.Dense(1, activation='sigmoid'))\n",
        "    return model"
      ]
    },
    {
      "cell_type": "code",
      "execution_count": null,
      "id": "ab7f2620",
      "metadata": {
        "id": "ab7f2620"
      },
      "outputs": [],
      "source": [
        "# Combine the generator and discriminator into a GAN model\n",
        "def build_gan(generator, discriminator):\n",
        "    discriminator.trainable = False  # Freeze discriminator during GAN training\n",
        "    model = tf.keras.Sequential()\n",
        "    model.add(generator)\n",
        "    model.add(discriminator)\n",
        "    return model"
      ]
    },
    {
      "cell_type": "code",
      "execution_count": null,
      "id": "e89f5f1c",
      "metadata": {
        "id": "e89f5f1c"
      },
      "outputs": [],
      "source": [
        "# Function to train the GAN\n",
        "def train_gan(generator, discriminator, gan, epochs, batch_size, latent_dim, real_data):\n",
        "    for epoch in range(epochs):\n",
        "        # Generate random noise for the generator\n",
        "        noise = np.random.normal(0, 1, (batch_size, latent_dim))\n",
        "\n",
        "        # Generate synthetic data using the generator\n",
        "        generated_data = generator.predict(noise)\n",
        "\n",
        "        # Combine real and generated data\n",
        "        # combined_data = np.concatenate([real_data, generated_data])\n",
        "\n",
        "        # Labels for real and generated data\n",
        "        labels_real = np.ones((batch_size, 1))\n",
        "        labels_fake = np.zeros((batch_size, 1))\n",
        "\n",
        "        # Train discriminator on real and generated data separately\n",
        "        d_loss_real = discriminator.train_on_batch(real_data, labels_real)\n",
        "        d_loss_fake = discriminator.train_on_batch(generated_data, labels_fake)\n",
        "        d_loss = 0.5 * np.add(d_loss_real, d_loss_fake)\n",
        "\n",
        "        # Train the generator via the GAN model\n",
        "        noise = np.random.normal(0, 1, (batch_size, latent_dim))\n",
        "        labels_gan = np.ones((batch_size, 1))\n",
        "        g_loss = gan.train_on_batch(noise, labels_gan)\n",
        "\n",
        "        # Print progress\n",
        "        if epoch % 10 == 0:\n",
        "            print(f\"Epoch {epoch}, D Loss: {d_loss[0]}, G Loss: {g_loss}\")"
      ]
    },
    {
      "cell_type": "code",
      "execution_count": null,
      "id": "a1c96f56",
      "metadata": {
        "id": "a1c96f56"
      },
      "outputs": [],
      "source": [
        "# Example usage\n",
        "latent_dim = 100\n",
        "input_shape = 63857  # Assuming you are generating images of size 28x28\n",
        "epochs = 10000\n",
        "batch_size = 601"
      ]
    },
    {
      "cell_type": "code",
      "execution_count": null,
      "id": "973b9894",
      "metadata": {
        "id": "973b9894"
      },
      "outputs": [],
      "source": [
        "# Takes input data (gene expressions) joined with one ground truth column (cancerous tissue or non-cancerous) as input\n",
        "real_data = pd.read_csv(\"G:\\\\My Drive\\\\HATCH24\\\\allData.csv\").drop(columns=['Unnamed: 0'])"
      ]
    },
    {
      "cell_type": "code",
      "execution_count": null,
      "id": "xhbynqM6cAss",
      "metadata": {
        "colab": {
          "base_uri": "https://localhost:8080/",
          "height": 443
        },
        "id": "xhbynqM6cAss",
        "outputId": "5e4b7c4b-2b5b-488f-8f21-4152e7687d6b"
      },
      "outputs": [],
      "source": [
        "real_data"
      ]
    },
    {
      "cell_type": "code",
      "execution_count": null,
      "id": "583906bd",
      "metadata": {},
      "outputs": [],
      "source": [
        "real_data.max(axis=1).max"
      ]
    },
    {
      "cell_type": "code",
      "execution_count": null,
      "id": "8e9e9562",
      "metadata": {},
      "outputs": [],
      "source": [
        "real_data.min(axis=1)"
      ]
    },
    {
      "cell_type": "code",
      "execution_count": null,
      "id": "a61087af",
      "metadata": {
        "colab": {
          "base_uri": "https://localhost:8080/"
        },
        "id": "a61087af",
        "outputId": "cecc3532-226c-4a93-83f9-7c106ea4decb"
      },
      "outputs": [],
      "source": [
        "real_data.shape"
      ]
    },
    {
      "cell_type": "code",
      "execution_count": null,
      "id": "9a47cf3f",
      "metadata": {},
      "outputs": [],
      "source": [
        "np.array(real_data)"
      ]
    },
    {
      "cell_type": "code",
      "execution_count": null,
      "id": "bc12fd8b",
      "metadata": {},
      "outputs": [],
      "source": [
        "from sklearn.preprocessing import MinMaxScaler\n",
        "scaler_model = MinMaxScaler()\n",
        "scaler_model.fit(real_data.astype(float))\n",
        "scaled_data = pd.DataFrame(scaler_model.transform(real_data))"
      ]
    },
    {
      "cell_type": "code",
      "execution_count": null,
      "id": "e7821f8a",
      "metadata": {},
      "outputs": [],
      "source": [
        "scaled_data"
      ]
    },
    {
      "cell_type": "code",
      "execution_count": null,
      "id": "c96ba893",
      "metadata": {},
      "outputs": [],
      "source": [
        "set(list(scaled_data[63856]))"
      ]
    },
    {
      "cell_type": "code",
      "execution_count": null,
      "id": "dc7d2aed",
      "metadata": {
        "id": "dc7d2aed"
      },
      "outputs": [],
      "source": [
        "# Build and compile the discriminator\n",
        "discriminator = build_discriminator(input_shape)\n",
        "discriminator.compile(loss='binary_crossentropy', optimizer='adam', metrics=['accuracy'])\n",
        "\n",
        "# Build and compile the generator\n",
        "generator = build_generator(latent_dim, input_shape)\n",
        "generator.compile(loss='binary_crossentropy', optimizer='adam')\n",
        "\n",
        "# Build and compile the GAN model\n",
        "gan = build_gan(generator, discriminator)\n",
        "gan.compile(loss='binary_crossentropy', optimizer='adam')"
      ]
    },
    {
      "cell_type": "code",
      "execution_count": null,
      "id": "d161a8af",
      "metadata": {
        "colab": {
          "base_uri": "https://localhost:8080/"
        },
        "id": "d161a8af",
        "outputId": "401be986-f1aa-416e-baff-de426a8c251a"
      },
      "outputs": [],
      "source": [
        "# Train the GAN\n",
        "train_gan(generator, discriminator, gan, 100, batch_size, latent_dim, real_data)"
      ]
    },
    {
      "cell_type": "code",
      "execution_count": null,
      "id": "efdb8369",
      "metadata": {
        "id": "efdb8369"
      },
      "outputs": [],
      "source": [
        "# Generate synthetic data\n",
        "noise_for_generation = np.random.normal(0, 1, (2000, latent_dim))\n",
        "generated_data = generator.predict(noise_for_generation)"
      ]
    },
    {
      "cell_type": "code",
      "execution_count": null,
      "id": "69dd26e0",
      "metadata": {},
      "outputs": [],
      "source": [
        "generated_data.min().min()"
      ]
    },
    {
      "cell_type": "code",
      "execution_count": null,
      "metadata": {},
      "outputs": [],
      "source": [
        "generated_data.max().max()\n"
      ]
    },
    {
      "cell_type": "code",
      "execution_count": null,
      "id": "aac683cc",
      "metadata": {
        "id": "aac683cc"
      },
      "outputs": [],
      "source": [
        "GeneratedDF = pd.DataFrame(generated_data).clip(lower=0).round().astype(dtype='uint')\n",
        "GeneratedDF"
      ]
    },
    {
      "cell_type": "code",
      "execution_count": null,
      "id": "c1634426",
      "metadata": {},
      "outputs": [],
      "source": [
        "GeneratedDF.max(axis=1)"
      ]
    },
    {
      "cell_type": "code",
      "execution_count": null,
      "id": "3d4bace7",
      "metadata": {},
      "outputs": [],
      "source": [
        "unscaled_generated_data = scaler_model.inverse_transform(generated_data).clip(0)\n",
        "unscaled_generated_data"
      ]
    },
    {
      "cell_type": "code",
      "execution_count": null,
      "id": "9eb62241",
      "metadata": {},
      "outputs": [],
      "source": [
        "pd.DataFrame(unscaled_generated_data).astype(int).max().max()\n"
      ]
    },
    {
      "cell_type": "code",
      "execution_count": null,
      "id": "487359d6",
      "metadata": {},
      "outputs": [],
      "source": [
        "pd.DataFrame(unscaled_generated_data).astype(int).min().min()"
      ]
    },
    {
      "cell_type": "code",
      "execution_count": null,
      "id": "b3c344b0",
      "metadata": {},
      "outputs": [],
      "source": [
        "pd.DataFrame(unscaled_generated_data).astype(int).abs().to_csv(\"G:\\\\My Drive\\\\HATCH24\\\\generatedDataGAN1000EpochsNormalizedv5.csv\")"
      ]
    },
    {
      "cell_type": "code",
      "execution_count": null,
      "id": "69fe6636",
      "metadata": {
        "id": "69fe6636"
      },
      "outputs": [],
      "source": [
        "GeneratedDF.to_csv(\"G:\\\\My Drive\\\\HATCH24\\\\generatedDataGAN1000EpochsNormalv3.csv\")"
      ]
    },
    {
      "cell_type": "code",
      "execution_count": null,
      "metadata": {},
      "outputs": [],
      "source": []
    }
  ],
  "metadata": {
    "colab": {
      "provenance": []
    },
    "kernelspec": {
      "display_name": "Python 3 (ipykernel)",
      "language": "python",
      "name": "python3"
    },
    "language_info": {
      "codemirror_mode": {
        "name": "ipython",
        "version": 3
      },
      "file_extension": ".py",
      "mimetype": "text/x-python",
      "name": "python",
      "nbconvert_exporter": "python",
      "pygments_lexer": "ipython3",
      "version": "3.11.8"
    }
  },
  "nbformat": 4,
  "nbformat_minor": 5
}
